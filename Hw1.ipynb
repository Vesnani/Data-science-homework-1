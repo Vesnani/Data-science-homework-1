{
  "nbformat": 4,
  "nbformat_minor": 0,
  "metadata": {
    "colab": {
      "provenance": []
    },
    "kernelspec": {
      "name": "python3",
      "display_name": "Python 3"
    },
    "language_info": {
      "name": "python"
    }
  },
  "cells": [
    {
      "cell_type": "code",
      "execution_count": 1,
      "metadata": {
        "id": "eYfPPU0KeOXn"
      },
      "outputs": [],
      "source": [
        "import numpy as np"
      ]
    },
    {
      "cell_type": "markdown",
      "source": [
        "Задача 1"
      ],
      "metadata": {
        "id": "4LbbkQI-c41n"
      }
    },
    {
      "cell_type": "code",
      "source": [
        "v = np.array([1, 2, 3, 4, 5, 6, 7, 8, 9, 10])\n",
        "print(v)"
      ],
      "metadata": {
        "colab": {
          "base_uri": "https://localhost:8080/"
        },
        "id": "-cdFQtNTetgZ",
        "outputId": "a8fb6a5c-22e0-49e7-b286-f1a25751c7ec"
      },
      "execution_count": 5,
      "outputs": [
        {
          "output_type": "stream",
          "name": "stdout",
          "text": [
            "[ 1  2  3  4  5  6  7  8  9 10]\n"
          ]
        }
      ]
    },
    {
      "cell_type": "markdown",
      "source": [
        "Задача 2"
      ],
      "metadata": {
        "id": "9DlRwwr2c_ff"
      }
    },
    {
      "cell_type": "code",
      "source": [
        "Z = np.zeros((3, 3))\n",
        "print(Z)"
      ],
      "metadata": {
        "colab": {
          "base_uri": "https://localhost:8080/"
        },
        "id": "WEth5Wk0hqDW",
        "outputId": "2dd2d47b-2f03-48d5-ce62-685ff691903c"
      },
      "execution_count": 18,
      "outputs": [
        {
          "output_type": "stream",
          "name": "stdout",
          "text": [
            "[[0. 0. 0.]\n",
            " [0. 0. 0.]\n",
            " [0. 0. 0.]]\n"
          ]
        }
      ]
    },
    {
      "cell_type": "markdown",
      "source": [],
      "metadata": {
        "id": "tcYPfgZ_dhOa"
      }
    },
    {
      "cell_type": "markdown",
      "source": [
        "Задача 3"
      ],
      "metadata": {
        "id": "BVqtg_pBdBcH"
      }
    },
    {
      "cell_type": "code",
      "source": [
        "A = np.random.randint(1, 10, size=(5, 5))\n",
        "print(A)"
      ],
      "metadata": {
        "colab": {
          "base_uri": "https://localhost:8080/"
        },
        "id": "3O2vWX8pjId2",
        "outputId": "d6177074-31f8-4f73-d4d7-d8736bc0d1f8"
      },
      "execution_count": 21,
      "outputs": [
        {
          "output_type": "stream",
          "name": "stdout",
          "text": [
            "[[4 7 8 3 4]\n",
            " [3 6 6 9 6]\n",
            " [8 6 7 4 4]\n",
            " [3 1 7 1 2]\n",
            " [9 6 4 3 5]]\n"
          ]
        }
      ]
    },
    {
      "cell_type": "markdown",
      "source": [
        "Задача 4"
      ],
      "metadata": {
        "id": "i7X5kDlEdCsw"
      }
    },
    {
      "cell_type": "code",
      "source": [
        "B = np.random.rand(4, 4)\n",
        "print(B)"
      ],
      "metadata": {
        "colab": {
          "base_uri": "https://localhost:8080/"
        },
        "outputId": "cd94b784-cd4c-492e-bb8c-c82d58a169d9",
        "id": "P8M_PS0yj3bO"
      },
      "execution_count": 20,
      "outputs": [
        {
          "output_type": "stream",
          "name": "stdout",
          "text": [
            "[[0.63881089 0.06102598 0.71999115 0.11007842]\n",
            " [0.72707245 0.71585973 0.34417363 0.61191142]\n",
            " [0.56044909 0.49864198 0.83211255 0.51012218]\n",
            " [0.38320945 0.48604225 0.20090264 0.39471142]]\n"
          ]
        }
      ]
    },
    {
      "cell_type": "markdown",
      "source": [
        "Задача 5"
      ],
      "metadata": {
        "id": "vjLDz7LBdDyv"
      }
    },
    {
      "cell_type": "code",
      "source": [
        "A_1 = np.random.randint(1, 10, size=(5))\n",
        "B_1 = np.random.randint(1, 10, size=(5))\n",
        "print(f'sum = {A_1 + B_1}, dif = {A_1 - B_1}, mul = {A_1 * B_1}')"
      ],
      "metadata": {
        "colab": {
          "base_uri": "https://localhost:8080/"
        },
        "id": "iGzRGpHdmGMJ",
        "outputId": "8b96e424-6881-4eac-ccbc-132a4292d165"
      },
      "execution_count": 22,
      "outputs": [
        {
          "output_type": "stream",
          "name": "stdout",
          "text": [
            "sum = [ 7 18 10 10  8], dif = [ 1  0  2  6 -6], mul = [12 81 24 16  7]\n"
          ]
        }
      ]
    },
    {
      "cell_type": "markdown",
      "source": [
        "Задача 6"
      ],
      "metadata": {
        "id": "dhCBJkJRdFEg"
      }
    },
    {
      "cell_type": "code",
      "source": [
        "v_1 = np.random.rand(7)*100\n",
        "v_2 = np.random.rand(7)*100\n",
        "print(np.multiply(v_1, v_2))"
      ],
      "metadata": {
        "colab": {
          "base_uri": "https://localhost:8080/"
        },
        "id": "RcTCFd1noC5w",
        "outputId": "57adb951-96e7-4963-e04d-b43f769df5e4"
      },
      "execution_count": 27,
      "outputs": [
        {
          "output_type": "stream",
          "name": "stdout",
          "text": [
            "[1378.47565253 6113.12037893 4582.4226031  2019.99547133 1797.15740468\n",
            "  529.0425177  2592.44597062]\n"
          ]
        }
      ]
    },
    {
      "cell_type": "markdown",
      "source": [
        "Задача 7"
      ],
      "metadata": {
        "id": "akZ3e_7QdGng"
      }
    },
    {
      "cell_type": "code",
      "source": [
        "M_1 = np.random.randint(1, 11, size=(2, 2))\n",
        "M_2 = np.random.randint(1, 11, size=(2, 3))\n",
        "RES_M = np.dot(M_1, M_2)\n",
        "print(RES_M)"
      ],
      "metadata": {
        "colab": {
          "base_uri": "https://localhost:8080/"
        },
        "id": "53TU5iRYqzIv",
        "outputId": "552c7314-2fe6-453a-ede8-7c8c3ec11538"
      },
      "execution_count": 31,
      "outputs": [
        {
          "output_type": "stream",
          "name": "stdout",
          "text": [
            "[[76 49 86]\n",
            " [43 32 48]]\n"
          ]
        }
      ]
    },
    {
      "cell_type": "markdown",
      "source": [
        "Задача 8"
      ],
      "metadata": {
        "id": "NV0NW88CdHvu"
      }
    },
    {
      "cell_type": "code",
      "source": [
        "N = np.random.randint(1, 11, size=(3, 3))\n",
        "if np.linalg.det(N) != 0:\n",
        "  N_INV = np.linalg.inv(N)\n",
        "  print(N_INV)\n",
        "else:\n",
        "  print('Матриця не оборотна')"
      ],
      "metadata": {
        "colab": {
          "base_uri": "https://localhost:8080/"
        },
        "id": "ovNk_ggmssGB",
        "outputId": "1bd9ef4a-3cc5-4436-ecaa-f7cb12bfd4bb"
      },
      "execution_count": 37,
      "outputs": [
        {
          "output_type": "stream",
          "name": "stdout",
          "text": [
            "[[-2.          1.          1.        ]\n",
            " [ 9.16666667 -4.66666667 -4.        ]\n",
            " [-2.33333333  1.33333333  1.        ]]\n"
          ]
        }
      ]
    },
    {
      "cell_type": "markdown",
      "source": [
        "Задача 9"
      ],
      "metadata": {
        "id": "K-wDkltddKoH"
      }
    },
    {
      "cell_type": "code",
      "source": [
        "L = (np.matrix(np.random.rand(4, 4))).T\n",
        "print(L)"
      ],
      "metadata": {
        "colab": {
          "base_uri": "https://localhost:8080/"
        },
        "id": "mKZrmtEuw00W",
        "outputId": "586ba8eb-1e4f-49f6-dc4c-9af147056002"
      },
      "execution_count": 38,
      "outputs": [
        {
          "output_type": "stream",
          "name": "stdout",
          "text": [
            "[[0.68163574 0.15631408 0.4249185  0.43484319]\n",
            " [0.82380194 0.35328466 0.6198261  0.69214642]\n",
            " [0.78298477 0.82073543 0.14672987 0.47850287]\n",
            " [0.05883486 0.37029634 0.60154792 0.63024691]]\n"
          ]
        }
      ]
    },
    {
      "cell_type": "markdown",
      "source": [
        "Задача 10"
      ],
      "metadata": {
        "id": "1F7GWTy3dL93"
      }
    },
    {
      "cell_type": "code",
      "source": [
        "a = np.random.randint(1, 11, 4)\n",
        "A = np.random.randint(1, 11, size=(3, 4))\n",
        "result = np.dot(A, a)\n",
        "print(result)"
      ],
      "metadata": {
        "colab": {
          "base_uri": "https://localhost:8080/"
        },
        "id": "jWOwap89u_WO",
        "outputId": "f540fc2e-fbc8-4468-8ea2-6d0ae28c1814"
      },
      "execution_count": 40,
      "outputs": [
        {
          "output_type": "stream",
          "name": "stdout",
          "text": [
            "[46 64 55]\n"
          ]
        }
      ]
    },
    {
      "cell_type": "markdown",
      "source": [
        "Задача 11"
      ],
      "metadata": {
        "id": "dZCSHzF3dPtX"
      }
    },
    {
      "cell_type": "code",
      "source": [
        "B = np.random.rand(2, 3)\n",
        "b = np.random.rand(3)\n",
        "result = np.dot(B, b)\n",
        "print(result)"
      ],
      "metadata": {
        "colab": {
          "base_uri": "https://localhost:8080/"
        },
        "id": "5zgZYfvjzptv",
        "outputId": "c526a7c9-9ec1-41f4-eafb-5a0d73c69363"
      },
      "execution_count": 43,
      "outputs": [
        {
          "output_type": "stream",
          "name": "stdout",
          "text": [
            "[0.86701888 0.50165771]\n"
          ]
        }
      ]
    },
    {
      "cell_type": "markdown",
      "source": [
        "Задача 12"
      ],
      "metadata": {
        "id": "x-pCXvnEdSb3"
      }
    },
    {
      "cell_type": "code",
      "source": [
        "x = np.random.randint(1, 11, size=(2, 2))\n",
        "y = np.random.randint(1, 11, size=(2, 2))\n",
        "mul = x * y\n",
        "print(mul)"
      ],
      "metadata": {
        "colab": {
          "base_uri": "https://localhost:8080/"
        },
        "id": "zeXGIutl0w_G",
        "outputId": "d0df9f72-5ea7-4006-ddec-5a89131bafab"
      },
      "execution_count": 44,
      "outputs": [
        {
          "output_type": "stream",
          "name": "stdout",
          "text": [
            "[[12  6]\n",
            " [ 9 32]]\n"
          ]
        }
      ]
    },
    {
      "cell_type": "markdown",
      "source": [
        "Задача 13"
      ],
      "metadata": {
        "id": "XiR3M-i3dTcv"
      }
    },
    {
      "cell_type": "code",
      "source": [
        "x = np.random.randint(1, 11, size=(2, 2))\n",
        "y = np.random.randint(1, 11, size=(2, 2))\n",
        "mul = np.dot(x, y)\n",
        "print(mul)"
      ],
      "metadata": {
        "colab": {
          "base_uri": "https://localhost:8080/"
        },
        "id": "90bdizSD1UNG",
        "outputId": "589d7bbc-41e9-4b80-fd79-b59fe94fb0eb"
      },
      "execution_count": 45,
      "outputs": [
        {
          "output_type": "stream",
          "name": "stdout",
          "text": [
            "[[26 26]\n",
            " [82 82]]\n"
          ]
        }
      ]
    },
    {
      "cell_type": "markdown",
      "source": [
        "Задача 14"
      ],
      "metadata": {
        "id": "jS086Rc2dUkx"
      }
    },
    {
      "cell_type": "code",
      "source": [
        "Z = np.sum(np.random.randint(1, 101, size=(5, 5)))\n",
        "print(Z)"
      ],
      "metadata": {
        "colab": {
          "base_uri": "https://localhost:8080/"
        },
        "id": "W-xL4maH1hph",
        "outputId": "3d9fad6a-067e-480e-b373-72ec27569912"
      },
      "execution_count": 46,
      "outputs": [
        {
          "output_type": "stream",
          "name": "stdout",
          "text": [
            "1366\n"
          ]
        }
      ]
    },
    {
      "cell_type": "markdown",
      "source": [
        "Задача 15"
      ],
      "metadata": {
        "id": "AZdkGZYddV9X"
      }
    },
    {
      "cell_type": "code",
      "source": [
        "K = np.random.randint(1, 11, size=(4, 4))\n",
        "C = np.random.randint(1, 11, size=(4, 4))\n",
        "print(K - C)"
      ],
      "metadata": {
        "colab": {
          "base_uri": "https://localhost:8080/"
        },
        "id": "E_fzDTt63LPs",
        "outputId": "92111344-2b17-4516-817f-efbbc589e126"
      },
      "execution_count": 49,
      "outputs": [
        {
          "output_type": "stream",
          "name": "stdout",
          "text": [
            "[[-7  7 -2  2]\n",
            " [ 2  2 -4 -3]\n",
            " [ 5 -2  3 -3]\n",
            " [-1 -4  0 -1]]\n"
          ]
        }
      ]
    },
    {
      "cell_type": "markdown",
      "source": [
        "Задача 16"
      ],
      "metadata": {
        "id": "X8tOrx63dW_f"
      }
    },
    {
      "cell_type": "code",
      "source": [
        "W = np.random.rand(3, 3)\n",
        "my_vector = np.array([np.sum(W[0][:2]), np.sum(W[1][:2]), np.sum(W[2][:2])])\n",
        "column_vector = my_vector[:, np.newaxis]\n",
        "print(column_vector)"
      ],
      "metadata": {
        "colab": {
          "base_uri": "https://localhost:8080/"
        },
        "id": "oQv_nX-TKAfk",
        "outputId": "c2c8f07d-4e92-4bbf-f2a4-bea5708652be"
      },
      "execution_count": 68,
      "outputs": [
        {
          "output_type": "stream",
          "name": "stdout",
          "text": [
            "[0.43437967 1.29257156 1.33458379]\n",
            "[[0.43437967]\n",
            " [1.29257156]\n",
            " [1.33458379]]\n"
          ]
        }
      ]
    },
    {
      "cell_type": "markdown",
      "source": [
        "Задача 17"
      ],
      "metadata": {
        "id": "66eA-LqOdX8_"
      }
    },
    {
      "cell_type": "code",
      "source": [
        "Y = np.random.randint(1, 50, size=(3, 4))\n",
        "print(Y * Y)"
      ],
      "metadata": {
        "colab": {
          "base_uri": "https://localhost:8080/"
        },
        "id": "zFG6ZigTYwjt",
        "outputId": "d711c871-cf0d-41e3-cb6d-095b592f9dc9"
      },
      "execution_count": 77,
      "outputs": [
        {
          "output_type": "stream",
          "name": "stdout",
          "text": [
            "[[1936  484 1444 1681]\n",
            " [1225 1024  144  784]\n",
            " [1024   49   64   64]]\n"
          ]
        }
      ]
    },
    {
      "cell_type": "markdown",
      "source": [
        "Задача 18"
      ],
      "metadata": {
        "id": "5CE4fZ43dZPQ"
      }
    },
    {
      "cell_type": "code",
      "source": [
        "vector_first = np.random.randint(1, 50, 4)\n",
        "vector_second = np.sqrt(vector_first )\n",
        "print(vector_first)\n",
        "print(vector_second)"
      ],
      "metadata": {
        "colab": {
          "base_uri": "https://localhost:8080/"
        },
        "id": "yGtO-MxBcTNi",
        "outputId": "f435e018-cbed-4b73-d506-8e53080a3877"
      },
      "execution_count": 80,
      "outputs": [
        {
          "output_type": "stream",
          "name": "stdout",
          "text": [
            "[11 42 24 47]\n",
            "[3.31662479 6.4807407  4.89897949 6.8556546 ]\n"
          ]
        }
      ]
    }
  ]
}